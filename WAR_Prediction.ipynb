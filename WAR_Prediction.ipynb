{
  "nbformat": 4,
  "nbformat_minor": 0,
  "metadata": {
    "colab": {
      "provenance": []
    },
    "kernelspec": {
      "name": "python3",
      "display_name": "Python 3"
    },
    "language_info": {
      "name": "python"
    }
  },
  "cells": [
    {
      "cell_type": "code",
      "source": [
        "import numpy as np\n",
        "import pandas as pd\n",
        "from sklearn.model_selection import train_test_split\n",
        "from sklearn.linear_model import LinearRegression\n",
        "from sklearn.metrics import mean_squared_error\n",
        "import matplotlib.pyplot as plt\n",
        "\n",
        "data = pd.read_csv(\"/content/test.csv\")\n",
        "X = data.iloc[0:10, 5:6].values  # X는 타율, 출루율, 장타율\n",
        "Y = data.iloc[2:12, -1].values  # Y는 War\n",
        "\n",
        "def loss(x, y, beta_0, beta_1):\n",
        "    ms = np.sum((y - (beta_0 * x + beta_1))**2)\n",
        "    Loss = ms / len(x)\n",
        "    return Loss\n",
        "\n",
        "train_X = X.reshape(-1, 1)\n",
        "train_Y = Y.reshape(-1, 1)\n",
        "lrmodel = LinearRegression()\n",
        "lrmodel.fit(train_X, train_Y)\n",
        "beta_0 = lrmodel.coef_[0]\n",
        "beta_1 = lrmodel.intercept_\n",
        "\n",
        "plt.scatter(X, Y)\n",
        "predict = lrmodel.predict(train_X)\n",
        "plt.plot(train_X, predict, 'r')\n",
        "\n",
        "print(\"beta_0:%.2f\" % beta_0)\n",
        "print(\"beta_1:%.2f\" % beta_1)\n",
        "print(\"Loss :%.2f\" % loss(X, Y, beta_0, beta_1))\n"
      ],
      "metadata": {
        "colab": {
          "base_uri": "https://localhost:8080/",
          "height": 578
        },
        "id": "pbg0sgpguKxl",
        "outputId": "4e0d5e78-8fa0-4a81-bcd0-8cd6b8b9da4b"
      },
      "execution_count": null,
      "outputs": [
        {
          "output_type": "stream",
          "name": "stderr",
          "text": [
            "<ipython-input-13-5409952e9849>:28: DeprecationWarning: Conversion of an array with ndim > 0 to a scalar is deprecated, and will error in future. Ensure you extract a single element from your array before performing this operation. (Deprecated NumPy 1.25.)\n",
            "  print(\"beta_0:%.2f\" % beta_0)\n",
            "<ipython-input-13-5409952e9849>:29: DeprecationWarning: Conversion of an array with ndim > 0 to a scalar is deprecated, and will error in future. Ensure you extract a single element from your array before performing this operation. (Deprecated NumPy 1.25.)\n",
            "  print(\"beta_1:%.2f\" % beta_1)\n"
          ]
        },
        {
          "output_type": "stream",
          "name": "stdout",
          "text": [
            "beta_0:2.32\n",
            "beta_1:-0.46\n",
            "Loss :1.52\n"
          ]
        },
        {
          "output_type": "display_data",
          "data": {
            "text/plain": [
              "<Figure size 640x480 with 1 Axes>"
            ],
            "image/png": "[encoded data removed]"
          },
          "metadata": {}
        }
      ]
    },
    {
      "cell_type": "code",
      "source": [
        "# 출루율, 장타율, OPS와 War의 상관관계 추출"
      ],
      "metadata": {
        "id": "l6W0VJdkK5Wj"
      },
      "execution_count": null,
      "outputs": []
    },
    {
      "cell_type": "code",
      "execution_count": null,
      "metadata": {
        "id": "2m6TNMejKaRO",
        "colab": {
          "base_uri": "https://localhost:8080/"
        },
        "outputId": "2a4b5c73-4197-4fbb-b31b-e1f8657554e8"
      },
      "outputs": [
        {
          "output_type": "stream",
          "name": "stdout",
          "text": [
            "출루율, 장타율, OPS 입력:0.7, 0.2, 0.9\n",
            "예상 war: 1.088699\n"
          ]
        }
      ],
      "source": [
        "import numpy as np\n",
        "import pandas as pd\n",
        "from sklearn.linear_model import LinearRegression\n",
        "from sklearn.metrics import mean_squared_error, r2_score\n",
        "from sklearn.model_selection import train_test_split\n",
        "\n",
        "# 데이터 로드\n",
        "data = pd.read_csv(\"/content/test.csv\")\n",
        "X = data.iloc[0:10, 3:6].values  # X는 출루율, 장타율, OPS\n",
        "Y = data.iloc[2:12, -1].values  # Y는 War\n",
        "\n",
        "lrmodel=LinearRegression()\n",
        "lrmodel.fit(X,Y)\n",
        "\n",
        "beta_0=lrmodel.coef_[0] # 출루율 가중치\n",
        "beta_1=lrmodel.coef_[1] # 장타율 가중치\n",
        "beta_2=lrmodel.coef_[2] # OPS 가중치\n",
        "beta_3=lrmodel.intercept_ # 절편( 모든 독립변수가 0일 때, 종속변수의 예측값 )\n",
        "\n",
        "def expected_war(OBP, SLG, OPS, beta_0,beta_1,beta_2,beta_3):\n",
        "    value=np.array([OBP, SLG, OPS])\n",
        "    weight=np.array([beta_0,beta_1,beta_2])\n",
        "    war=value@weight+beta_3\n",
        "    return war\n",
        "\n",
        "OBP, SLG, OPS = eval(input('출루율, 장타율, OPS 입력:'))\n",
        "print(\"예상 war: %f\"%expected_war(OBP, SLG, OPS, beta_0,beta_1,beta_2,beta_3))"
      ]
    },
    {
      "cell_type": "code",
      "source": [
        "# 로스 값 구하기\n",
        "\n",
        "def loss(X, Y, beta_0, beta_1, beta_2, beta_3):\n",
        "    weight = np.array([beta_0, beta_1, beta_2])\n",
        "    predictions = X.dot(weight) + beta_3\n",
        "    diff = np.sum(np.power((Y - predictions), 2))\n",
        "    return diff / len(X)\n",
        "\n",
        "# 손실 함수 출력\n",
        "print(\"Loss function ---> %.6f\" % loss(X, Y, beta_0, beta_1, beta_2, beta_3))"
      ],
      "metadata": {
        "colab": {
          "base_uri": "https://localhost:8080/"
        },
        "id": "nF5fyZnVxwwF",
        "outputId": "98b93d25-12cd-49df-fe98-10fa2e7c7dda"
      },
      "execution_count": null,
      "outputs": [
        {
          "output_type": "stream",
          "name": "stdout",
          "text": [
            "Loss function ---> 0.058571\n"
          ]
        }
      ]
    },
    {
      "cell_type": "code",
      "source": [
        "# MSE와 결정계수 구하기\n",
        "\n",
        "x_train, x_test, y_train, y_test=train_test_split(X,Y,test_size=0.2,random_state=5)\n",
        "\n",
        "lrmodel=LinearRegression()\n",
        "lrmodel.fit(x_train,y_train)\n",
        "beta_0=lrmodel.coef_[0] # 기울기\n",
        "beta_1=lrmodel.coef_[1] # 기울기\n",
        "beta_2=lrmodel.coef_[2] # 기울기\n",
        "beta_3=lrmodel.intercept_ # 절편\n",
        "\n",
        "predicted_y_train=lrmodel.predict(x_train)\n",
        "mse_train=mean_squared_error(y_train,predicted_y_train)\n",
        "print(\"MSE on train data: %f\"%mse_train)\n",
        "\n",
        "from sklearn.metrics import r2_score\n",
        "r2_train = r2_score(y_train, predicted_y_train)\n",
        "print(\"train의 결정계수:%f\"%r2_train)"
      ],
      "metadata": {
        "id": "KNe7CBQlwD-A",
        "colab": {
          "base_uri": "https://localhost:8080/"
        },
        "outputId": "2b2bff5f-b8a1-4e81-8f12-c248ad39c296"
      },
      "execution_count": null,
      "outputs": [
        {
          "output_type": "stream",
          "name": "stdout",
          "text": [
            "MSE on train data: 0.046554\n",
            "train의 결정계수:0.619107\n"
          ]
        }
      ]
    },
    {
      "cell_type": "code",
      "source": [
        "# 다항식 회귀분석(Polynomial Regression)을 이용해 회귀분석 결과를 개선해보자.\n",
        "\n",
        "OBP = X[0:, 0] # 출루율\n",
        "SLG = X[0:, 1] # 장타율\n",
        "poly = OBP * SLG\n",
        "\n",
        "# 원래 특성 배열에 다항 특성 추가\n",
        "xpoly = np.column_stack((poly, X))\n",
        "\n",
        "x_train, x_test, y_train, y_test = train_test_split(xpoly, Y, test_size=0.2, random_state=5)\n",
        "\n",
        "# 선형 회귀 모델 생성 및 훈련\n",
        "lrmodel = LinearRegression()\n",
        "lrmodel.fit(x_train, y_train)\n",
        "\n",
        "# 계수 및 절편 추출\n",
        "beta_0 = lrmodel.coef_[0]  # 출루율 * 장타율의 가중치\n",
        "beta_1 = lrmodel.coef_[1]  # 장타율의 가중치\n",
        "beta_2 = lrmodel.coef_[2]  # OPS의 가중치\n",
        "beta_3 = lrmodel.intercept_\n",
        "\n",
        "\n",
        "predicted_y_train = lrmodel.predict(x_train)\n",
        "\n",
        "# MSE 계산\n",
        "mse_train = mean_squared_error(y_train, predicted_y_train)\n",
        "print(\"MSE on train data: %f\" % mse_train)\n",
        "\n",
        "# 결정계수 R^2 계산\n",
        "r2_train = r2_score(y_train, predicted_y_train)\n",
        "print(\"train의 결정계수: %f\" % r2_train)"
      ],
      "metadata": {
        "id": "4lnDEJi7-PKf",
        "colab": {
          "base_uri": "https://localhost:8080/"
        },
        "outputId": "613c9f08-eff5-41d0-aa28-790e1595a42b"
      },
      "execution_count": null,
      "outputs": [
        {
          "output_type": "stream",
          "name": "stdout",
          "text": [
            "MSE on train data: 0.045580\n",
            "train의 결정계수: 0.627074\n"
          ]
        }
      ]
    },
    {
      "cell_type": "code",
      "source": [
        "import numpy as np\n",
        "from sklearn.linear_model import LinearRegression\n",
        "from sklearn.metrics import mean_squared_error\n",
        "from sklearn.model_selection import train_test_split\n",
        "from sklearn.metrics import r2_score\n",
        "from sklearn.preprocessing import PolynomialFeatures\n",
        "\n",
        "poly = PolynomialFeatures(2) # poly = PolynomialFeatures(degree=2,interaction_only=True)와 비교\n",
        "poly = poly.fit_transform(X)\n",
        "x_train, x_test, y_train, y_test=train_test_split(poly,Y,test_size=0.2,random_state=5)\n",
        "print('변인 개수:',len(x_train[0]))\n",
        "\n",
        "lrmodel=LinearRegression()\n",
        "lrmodel.fit(x_train,y_train)\n",
        "\n",
        "predicted_y_train=lrmodel.predict(x_train)\n",
        "mse_train=mean_squared_error(y_train,predicted_y_train)\n",
        "print(\"MSE on train data: %f\"%mse_train)\n",
        "\n",
        "r2_train = r2_score(y_train, predicted_y_train)\n",
        "print(\"train의 결정계수:%f\"%r2_train)"
      ],
      "metadata": {
        "colab": {
          "base_uri": "https://localhost:8080/"
        },
        "id": "0__CuVj5FjEw",
        "outputId": "5bf956dd-2db5-4611-caf4-f5385f41a04a"
      },
      "execution_count": null,
      "outputs": [
        {
          "output_type": "stream",
          "name": "stdout",
          "text": [
            "변인 개수: 10\n",
            "MSE on train data: 0.044519\n",
            "train의 결정계수:0.635755\n"
          ]
        }
      ]
    }
  ]
}